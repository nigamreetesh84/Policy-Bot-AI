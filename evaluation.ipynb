import pandas as pd
from generate import answer_with_openai

# Load evaluation pairs
data = pd.read_csv("data/eval_pairs.csv")  # columns: question,expected_keywords

results = []
for _, row in data.iterrows():
    q = row["question"]
    expected = row["expected_keywords"].split(",")
    answer = answer_with_openai(q)
    hit = any(k.lower() in answer.lower() for k in expected)
    results.append({"question": q, "hit": hit, "answer": answer[:200]})

df = pd.DataFrame(results)
accuracy = df["hit"].mean()
print(df[["question", "hit"]])
print(f"\n✅ Accuracy: {accuracy:.2%}")
